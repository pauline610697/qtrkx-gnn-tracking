{
 "cells": [
  {
   "cell_type": "markdown",
   "metadata": {
    "colab_type": "text",
    "id": "xLOXFOT5Q40E"
   },
   "source": [
    "##### Copyright 2020 The TensorFlow Authors."
   ]
  },
  {
   "cell_type": "code",
   "execution_count": 1,
   "metadata": {
    "cellView": "form",
    "colab": {},
    "colab_type": "code",
    "collapsed": true,
    "execution": {
     "iopub.execute_input": "2022-02-04T12:14:54.772450Z",
     "iopub.status.busy": "2022-02-04T12:14:54.771804Z",
     "iopub.status.idle": "2022-02-04T12:14:54.774691Z",
     "shell.execute_reply": "2022-02-04T12:14:54.774153Z"
    },
    "id": "iiQkM5ZgQ8r2",
    "jupyter": {
     "outputs_hidden": true
    }
   },
   "outputs": [],
   "source": [
    "#@title Licensed under the Apache License, Version 2.0 (the \"License\");\n",
    "# you may not use this file except in compliance with the License.\n",
    "# You may obtain a copy of the License at\n",
    "#\n",
    "# https://www.apache.org/licenses/LICENSE-2.0\n",
    "#\n",
    "# Unless required by applicable law or agreed to in writing, software\n",
    "# distributed under the License is distributed on an \"AS IS\" BASIS,\n",
    "# WITHOUT WARRANTIES OR CONDITIONS OF ANY KIND, either express or implied.\n",
    "# See the License for the specific language governing permissions and\n",
    "# limitations under the License."
   ]
  },
  {
   "cell_type": "markdown",
   "metadata": {
    "colab_type": "text",
    "id": "j6331ZSsQGY3"
   },
   "source": [
    "# Barren plateaus"
   ]
  },
  {
   "cell_type": "markdown",
   "metadata": {
    "colab_type": "text",
    "id": "i9Jcnb8bQQyd"
   },
   "source": [
    "<table class=\"tfo-notebook-buttons\" align=\"left\">\n",
    "  <td>\n",
    "    <a target=\"_blank\" href=\"https://www.tensorflow.org/quantum/tutorials/barren_plateaus\"><img src=\"https://www.tensorflow.org/images/tf_logo_32px.png\" />View on TensorFlow.org</a>\n",
    "  </td>\n",
    "  <td>\n",
    "    <a target=\"_blank\" href=\"https://colab.research.google.com/github/tensorflow/quantum/blob/master/docs/tutorials/barren_plateaus.ipynb\"><img src=\"https://www.tensorflow.org/images/colab_logo_32px.png\" />Run in Google Colab</a>\n",
    "  </td>\n",
    "  <td>\n",
    "    <a target=\"_blank\" href=\"https://github.com/tensorflow/quantum/blob/master/docs/tutorials/barren_plateaus.ipynb\"><img src=\"https://www.tensorflow.org/images/GitHub-Mark-32px.png\" />View source on GitHub</a>\n",
    "  </td>\n",
    "  <td>\n",
    "    <a href=\"https://storage.googleapis.com/tensorflow_docs/quantum/docs/tutorials/barren_plateaus.ipynb\"><img src=\"https://www.tensorflow.org/images/download_logo_32px.png\" />Download notebook</a>\n",
    "  </td>\n",
    "</table>"
   ]
  },
  {
   "cell_type": "markdown",
   "metadata": {
    "colab_type": "text",
    "id": "DyEcfFapraq6"
   },
   "source": [
    "In this example you will explore the result of <a href=\"https://www.nature.com/articles/s41467-018-07090-4\" class=\"external\">McClean, 2019</a> that says not just any quantum neural network structure will do well when it comes to learning. In particular you will see that a certain large family of random quantum circuits do not serve as good quantum neural networks, because they have gradients that vanish almost everywhere. In this example you won't be training any models for a specific learning problem, but instead focusing on the simpler problem of understanding the behaviors of gradients."
   ]
  },
  {
   "cell_type": "markdown",
   "metadata": {
    "colab_type": "text",
    "id": "zB_Xw0Y9rVNi"
   },
   "source": [
    "## Setup"
   ]
  },
  {
   "cell_type": "code",
   "execution_count": 2,
   "metadata": {
    "colab": {},
    "colab_type": "code",
    "collapsed": true,
    "execution": {
     "iopub.execute_input": "2022-02-04T12:14:54.786178Z",
     "iopub.status.busy": "2022-02-04T12:14:54.782527Z",
     "iopub.status.idle": "2022-02-04T12:15:19.770602Z",
     "shell.execute_reply": "2022-02-04T12:15:19.771009Z"
    },
    "id": "TorxE5tnkvb2",
    "jupyter": {
     "outputs_hidden": true
    }
   },
   "outputs": [
    {
     "name": "stdout",
     "output_type": "stream",
     "text": [
      "Collecting tensorflow==2.7.0\n",
      "  Downloading tensorflow-2.7.0-cp37-cp37m-manylinux2010_x86_64.whl (489.6 MB)\n",
      "Requirement already satisfied: wheel<1.0,>=0.32.0 in /tmpfs/src/tf_docs_env/lib/python3.7/site-packages (from tensorflow==2.7.0) (0.37.1)\n",
      "Collecting keras<2.8,>=2.7.0rc0\n",
      "  Downloading keras-2.7.0-py2.py3-none-any.whl (1.3 MB)\n",
      "Requirement already satisfied: google-pasta>=0.1.1 in /tmpfs/src/tf_docs_env/lib/python3.7/site-packages (from tensorflow==2.7.0) (0.2.0)\n",
      "Requirement already satisfied: typing-extensions>=3.6.6 in /home/kbuilder/.local/lib/python3.7/site-packages (from tensorflow==2.7.0) (4.0.1)\n",
      "Requirement already satisfied: termcolor>=1.1.0 in /tmpfs/src/tf_docs_env/lib/python3.7/site-packages (from tensorflow==2.7.0) (1.1.0)\n",
      "Requirement already satisfied: keras-preprocessing>=1.1.1 in /tmpfs/src/tf_docs_env/lib/python3.7/site-packages (from tensorflow==2.7.0) (1.1.2)\n",
      "Requirement already satisfied: opt-einsum>=2.3.2 in /tmpfs/src/tf_docs_env/lib/python3.7/site-packages (from tensorflow==2.7.0) (3.3.0)\n",
      "Collecting gast<0.5.0,>=0.2.1\n",
      "  Downloading gast-0.4.0-py3-none-any.whl (9.8 kB)\n",
      "Requirement already satisfied: six>=1.12.0 in /home/kbuilder/.local/lib/python3.7/site-packages (from tensorflow==2.7.0) (1.16.0)\n",
      "Requirement already satisfied: protobuf>=3.9.2 in /tmpfs/src/tf_docs_env/lib/python3.7/site-packages (from tensorflow==2.7.0) (3.19.4)\n",
      "Requirement already satisfied: wrapt>=1.11.0 in /tmpfs/src/tf_docs_env/lib/python3.7/site-packages (from tensorflow==2.7.0) (1.13.3)\n",
      "Requirement already satisfied: tensorboard~=2.6 in /tmpfs/src/tf_docs_env/lib/python3.7/site-packages (from tensorflow==2.7.0) (2.8.0)\n",
      "Collecting tensorflow-estimator<2.8,~=2.7.0rc0\n",
      "  Downloading tensorflow_estimator-2.7.0-py2.py3-none-any.whl (463 kB)\n",
      "Requirement already satisfied: grpcio<2.0,>=1.24.3 in /tmpfs/src/tf_docs_env/lib/python3.7/site-packages (from tensorflow==2.7.0) (1.44.0rc2)\n",
      "Requirement already satisfied: tensorflow-io-gcs-filesystem>=0.21.0 in /tmpfs/src/tf_docs_env/lib/python3.7/site-packages (from tensorflow==2.7.0) (0.23.1)\n",
      "Requirement already satisfied: libclang>=9.0.1 in /tmpfs/src/tf_docs_env/lib/python3.7/site-packages (from tensorflow==2.7.0) (13.0.0)\n",
      "Requirement already satisfied: absl-py>=0.4.0 in /tmpfs/src/tf_docs_env/lib/python3.7/site-packages (from tensorflow==2.7.0) (1.0.0)\n",
      "Requirement already satisfied: h5py>=2.9.0 in /tmpfs/src/tf_docs_env/lib/python3.7/site-packages (from tensorflow==2.7.0) (3.6.0)\n",
      "Requirement already satisfied: astunparse>=1.6.0 in /tmpfs/src/tf_docs_env/lib/python3.7/site-packages (from tensorflow==2.7.0) (1.6.3)\n",
      "Requirement already satisfied: flatbuffers<3.0,>=1.12 in /tmpfs/src/tf_docs_env/lib/python3.7/site-packages (from tensorflow==2.7.0) (2.0)\n",
      "Requirement already satisfied: numpy>=1.14.5 in /tmpfs/src/tf_docs_env/lib/python3.7/site-packages (from tensorflow==2.7.0) (1.21.5)\n",
      "Requirement already satisfied: cached-property in /tmpfs/src/tf_docs_env/lib/python3.7/site-packages (from h5py>=2.9.0->tensorflow==2.7.0) (1.5.2)\n",
      "Requirement already satisfied: tensorboard-data-server<0.7.0,>=0.6.0 in /tmpfs/src/tf_docs_env/lib/python3.7/site-packages (from tensorboard~=2.6->tensorflow==2.7.0) (0.6.1)\n",
      "Requirement already satisfied: tensorboard-plugin-wit>=1.6.0 in /tmpfs/src/tf_docs_env/lib/python3.7/site-packages (from tensorboard~=2.6->tensorflow==2.7.0) (1.8.1)\n",
      "Requirement already satisfied: werkzeug>=0.11.15 in /tmpfs/src/tf_docs_env/lib/python3.7/site-packages (from tensorboard~=2.6->tensorflow==2.7.0) (2.0.2)\n",
      "Requirement already satisfied: requests<3,>=2.21.0 in /tmpfs/src/tf_docs_env/lib/python3.7/site-packages (from tensorboard~=2.6->tensorflow==2.7.0) (2.27.1)\n",
      "Requirement already satisfied: google-auth<3,>=1.6.3 in /tmpfs/src/tf_docs_env/lib/python3.7/site-packages (from tensorboard~=2.6->tensorflow==2.7.0) (2.6.0)\n",
      "Requirement already satisfied: google-auth-oauthlib<0.5,>=0.4.1 in /tmpfs/src/tf_docs_env/lib/python3.7/site-packages (from tensorboard~=2.6->tensorflow==2.7.0) (0.4.6)\n",
      "Requirement already satisfied: setuptools>=41.0.0 in /tmpfs/src/tf_docs_env/lib/python3.7/site-packages (from tensorboard~=2.6->tensorflow==2.7.0) (60.7.1)\n",
      "Requirement already satisfied: markdown>=2.6.8 in /tmpfs/src/tf_docs_env/lib/python3.7/site-packages (from tensorboard~=2.6->tensorflow==2.7.0) (3.3.6)\n",
      "Requirement already satisfied: rsa<5,>=3.1.4 in /tmpfs/src/tf_docs_env/lib/python3.7/site-packages (from google-auth<3,>=1.6.3->tensorboard~=2.6->tensorflow==2.7.0) (4.8)\n",
      "Requirement already satisfied: pyasn1-modules>=0.2.1 in /usr/lib/python3/dist-packages (from google-auth<3,>=1.6.3->tensorboard~=2.6->tensorflow==2.7.0) (0.2.1)\n",
      "Requirement already satisfied: cachetools<6.0,>=2.0.0 in /home/kbuilder/.local/lib/python3.7/site-packages (from google-auth<3,>=1.6.3->tensorboard~=2.6->tensorflow==2.7.0) (5.0.0)\n",
      "Requirement already satisfied: requests-oauthlib>=0.7.0 in /tmpfs/src/tf_docs_env/lib/python3.7/site-packages (from google-auth-oauthlib<0.5,>=0.4.1->tensorboard~=2.6->tensorflow==2.7.0) (1.3.1)\n",
      "Requirement already satisfied: importlib-metadata>=4.4 in /home/kbuilder/.local/lib/python3.7/site-packages (from markdown>=2.6.8->tensorboard~=2.6->tensorflow==2.7.0) (4.10.1)\n",
      "Requirement already satisfied: urllib3<1.27,>=1.21.1 in /usr/lib/python3/dist-packages (from requests<3,>=2.21.0->tensorboard~=2.6->tensorflow==2.7.0) (1.22)\n",
      "Requirement already satisfied: idna<4,>=2.5 in /usr/lib/python3/dist-packages (from requests<3,>=2.21.0->tensorboard~=2.6->tensorflow==2.7.0) (2.6)\n",
      "Requirement already satisfied: certifi>=2017.4.17 in /usr/lib/python3/dist-packages (from requests<3,>=2.21.0->tensorboard~=2.6->tensorflow==2.7.0) (2018.1.18)\n",
      "Requirement already satisfied: charset-normalizer~=2.0.0 in /tmpfs/src/tf_docs_env/lib/python3.7/site-packages (from requests<3,>=2.21.0->tensorboard~=2.6->tensorflow==2.7.0) (2.0.11)\n",
      "Requirement already satisfied: zipp>=0.5 in /home/kbuilder/.local/lib/python3.7/site-packages (from importlib-metadata>=4.4->markdown>=2.6.8->tensorboard~=2.6->tensorflow==2.7.0) (3.7.0)\n",
      "Requirement already satisfied: oauthlib>=3.0.0 in /tmpfs/src/tf_docs_env/lib/python3.7/site-packages (from requests-oauthlib>=0.7.0->google-auth-oauthlib<0.5,>=0.4.1->tensorboard~=2.6->tensorflow==2.7.0) (3.2.0)\n",
      "Requirement already satisfied: pyasn1>=0.1.3 in /usr/lib/python3/dist-packages (from rsa<5,>=3.1.4->google-auth<3,>=1.6.3->tensorboard~=2.6->tensorflow==2.7.0) (0.4.2)\n",
      "Installing collected packages: tensorflow-estimator, keras, gast, tensorflow\n",
      "  Attempting uninstall: keras\n",
      "    Found existing installation: keras 2.8.0\n",
      "    Uninstalling keras-2.8.0:\n",
      "      Successfully uninstalled keras-2.8.0\n",
      "  Attempting uninstall: gast\n",
      "    Found existing installation: gast 0.5.3\n",
      "    Uninstalling gast-0.5.3:\n",
      "      Successfully uninstalled gast-0.5.3\n",
      "  Attempting uninstall: tensorflow\n",
      "    Found existing installation: tensorflow 2.8.0\n",
      "    Uninstalling tensorflow-2.8.0:\n",
      "      Successfully uninstalled tensorflow-2.8.0\n",
      "Successfully installed gast-0.4.0 keras-2.7.0 tensorflow-2.7.0 tensorflow-estimator-2.7.0\n"
     ]
    }
   ],
   "source": [
    "!pip install tensorflow==2.7.0"
   ]
  },
  {
   "cell_type": "markdown",
   "metadata": {
    "colab_type": "text",
    "id": "FxkQA6oblNqI"
   },
   "source": [
    "Install TensorFlow Quantum:"
   ]
  },
  {
   "cell_type": "code",
   "execution_count": 3,
   "metadata": {
    "colab": {},
    "colab_type": "code",
    "collapsed": true,
    "execution": {
     "iopub.execute_input": "2022-02-04T12:15:19.777819Z",
     "iopub.status.busy": "2022-02-04T12:15:19.776989Z",
     "iopub.status.idle": "2022-02-04T12:15:33.530829Z",
     "shell.execute_reply": "2022-02-04T12:15:33.530277Z"
    },
    "id": "saFHsRDpkvkH",
    "jupyter": {
     "outputs_hidden": true
    }
   },
   "outputs": [
    {
     "name": "stdout",
     "output_type": "stream",
     "text": [
      "Collecting tensorflow-quantum\n",
      "  Using cached tensorflow_quantum-0.6.1-cp37-cp37m-manylinux_2_12_x86_64.manylinux2010_x86_64.whl (10.5 MB)\n",
      "Collecting cirq-core>=0.13.1\n",
      "  Using cached cirq_core-0.13.1-py3-none-any.whl (1.6 MB)\n",
      "Collecting protobuf==3.17.3\n",
      "  Using cached protobuf-3.17.3-cp37-cp37m-manylinux_2_5_x86_64.manylinux1_x86_64.whl (1.0 MB)\n",
      "Collecting cirq-google>=0.13.1\n",
      "  Using cached cirq_google-0.13.1-py3-none-any.whl (437 kB)\n",
      "Collecting googleapis-common-protos==1.52.0\n",
      "  Using cached googleapis_common_protos-1.52.0-py2.py3-none-any.whl (100 kB)\n",
      "Collecting google-auth==1.18.0\n",
      "  Using cached google_auth-1.18.0-py2.py3-none-any.whl (90 kB)\n",
      "Collecting sympy==1.8\n",
      "  Using cached sympy-1.8-py3-none-any.whl (6.1 MB)\n",
      "Collecting google-api-core==1.21.0\n",
      "  Using cached google_api_core-1.21.0-py2.py3-none-any.whl (90 kB)\n",
      "Requirement already satisfied: requests<3.0.0dev,>=2.18.0 in /tmpfs/src/tf_docs_env/lib/python3.7/site-packages (from google-api-core==1.21.0->tensorflow-quantum) (2.27.1)\n",
      "Requirement already satisfied: setuptools>=34.0.0 in /tmpfs/src/tf_docs_env/lib/python3.7/site-packages (from google-api-core==1.21.0->tensorflow-quantum) (60.7.1)\n",
      "Requirement already satisfied: six>=1.10.0 in /home/kbuilder/.local/lib/python3.7/site-packages (from google-api-core==1.21.0->tensorflow-quantum) (1.16.0)\n",
      "Requirement already satisfied: pytz in /tmpfs/src/tf_docs_env/lib/python3.7/site-packages (from google-api-core==1.21.0->tensorflow-quantum) (2021.3)\n",
      "Requirement already satisfied: pyasn1-modules>=0.2.1 in /usr/lib/python3/dist-packages (from google-auth==1.18.0->tensorflow-quantum) (0.2.1)\n",
      "Collecting cachetools<5.0,>=2.0.0\n",
      "  Using cached cachetools-4.2.4-py3-none-any.whl (10 kB)\n",
      "Requirement already satisfied: rsa<5,>=3.1.4 in /tmpfs/src/tf_docs_env/lib/python3.7/site-packages (from google-auth==1.18.0->tensorflow-quantum) (4.8)\n",
      "Collecting mpmath>=0.19\n",
      "  Using cached mpmath-1.2.1-py3-none-any.whl (532 kB)\n",
      "Requirement already satisfied: typing-extensions in /home/kbuilder/.local/lib/python3.7/site-packages (from cirq-core>=0.13.1->tensorflow-quantum) (4.0.1)\n",
      "Requirement already satisfied: pandas in /tmpfs/src/tf_docs_env/lib/python3.7/site-packages (from cirq-core>=0.13.1->tensorflow-quantum) (1.3.5)\n",
      "Requirement already satisfied: matplotlib~=3.0 in /tmpfs/src/tf_docs_env/lib/python3.7/site-packages (from cirq-core>=0.13.1->tensorflow-quantum) (3.5.1)\n",
      "Requirement already satisfied: numpy~=1.16 in /tmpfs/src/tf_docs_env/lib/python3.7/site-packages (from cirq-core>=0.13.1->tensorflow-quantum) (1.21.5)\n",
      "Requirement already satisfied: networkx~=2.4 in /tmpfs/src/tf_docs_env/lib/python3.7/site-packages (from cirq-core>=0.13.1->tensorflow-quantum) (2.6.3)\n",
      "Collecting duet~=0.2.0\n",
      "  Using cached duet-0.2.3-py3-none-any.whl (30 kB)\n",
      "Requirement already satisfied: tqdm in /tmpfs/src/tf_docs_env/lib/python3.7/site-packages (from cirq-core>=0.13.1->tensorflow-quantum) (4.62.3)\n",
      "Requirement already satisfied: scipy in /tmpfs/src/tf_docs_env/lib/python3.7/site-packages (from cirq-core>=0.13.1->tensorflow-quantum) (1.7.3)\n",
      "Collecting sortedcontainers~=2.0\n",
      "  Using cached sortedcontainers-2.4.0-py2.py3-none-any.whl (29 kB)\n",
      "Collecting google-api-core[grpc]<2.0.0dev,>=1.14.0\n",
      "  Using cached google_api_core-1.31.5-py2.py3-none-any.whl (93 kB)\n",
      "  Using cached google_api_core-1.31.4-py2.py3-none-any.whl (93 kB)\n",
      "  Using cached google_api_core-1.31.3-py2.py3-none-any.whl (93 kB)\n",
      "  Using cached google_api_core-1.31.2-py2.py3-none-any.whl (93 kB)\n",
      "  Using cached google_api_core-1.31.1-py2.py3-none-any.whl (93 kB)\n",
      "  Using cached google_api_core-1.31.0-py2.py3-none-any.whl (93 kB)\n",
      "  Using cached google_api_core-1.30.0-py2.py3-none-any.whl (93 kB)\n",
      "  Using cached google_api_core-1.29.0-py2.py3-none-any.whl (93 kB)\n",
      "  Using cached google_api_core-1.28.0-py2.py3-none-any.whl (92 kB)\n",
      "  Using cached google_api_core-1.27.0-py2.py3-none-any.whl (93 kB)\n",
      "  Using cached google_api_core-1.26.3-py2.py3-none-any.whl (93 kB)\n",
      "  Using cached google_api_core-1.26.2-py2.py3-none-any.whl (93 kB)\n",
      "  Using cached google_api_core-1.26.1-py2.py3-none-any.whl (92 kB)\n",
      "  Using cached google_api_core-1.26.0-py2.py3-none-any.whl (92 kB)\n",
      "  Using cached google_api_core-1.25.1-py2.py3-none-any.whl (92 kB)\n",
      "  Using cached google_api_core-1.25.0-py2.py3-none-any.whl (92 kB)\n",
      "  Using cached google_api_core-1.24.1-py2.py3-none-any.whl (92 kB)\n",
      "  Using cached google_api_core-1.24.0-py2.py3-none-any.whl (91 kB)\n",
      "  Using cached google_api_core-1.23.0-py2.py3-none-any.whl (91 kB)\n",
      "  Using cached google_api_core-1.22.4-py2.py3-none-any.whl (91 kB)\n",
      "  Using cached google_api_core-1.22.3-py2.py3-none-any.whl (91 kB)\n",
      "  Using cached google_api_core-1.22.2-py2.py3-none-any.whl (91 kB)\n",
      "  Using cached google_api_core-1.22.1-py2.py3-none-any.whl (91 kB)\n",
      "  Using cached google_api_core-1.22.0-py2.py3-none-any.whl (91 kB)\n",
      "Requirement already satisfied: grpcio<2.0dev,>=1.29.0 in /tmpfs/src/tf_docs_env/lib/python3.7/site-packages (from google-api-core==1.21.0->tensorflow-quantum) (1.44.0rc2)\n",
      "Requirement already satisfied: packaging>=20.0 in /tmpfs/src/tf_docs_env/lib/python3.7/site-packages (from matplotlib~=3.0->cirq-core>=0.13.1->tensorflow-quantum) (21.3)\n",
      "Requirement already satisfied: pyparsing>=2.2.1 in /tmpfs/src/tf_docs_env/lib/python3.7/site-packages (from matplotlib~=3.0->cirq-core>=0.13.1->tensorflow-quantum) (3.0.7)\n",
      "Requirement already satisfied: fonttools>=4.22.0 in /tmpfs/src/tf_docs_env/lib/python3.7/site-packages (from matplotlib~=3.0->cirq-core>=0.13.1->tensorflow-quantum) (4.29.1)\n",
      "Requirement already satisfied: cycler>=0.10 in /tmpfs/src/tf_docs_env/lib/python3.7/site-packages (from matplotlib~=3.0->cirq-core>=0.13.1->tensorflow-quantum) (0.11.0)\n",
      "Requirement already satisfied: kiwisolver>=1.0.1 in /tmpfs/src/tf_docs_env/lib/python3.7/site-packages (from matplotlib~=3.0->cirq-core>=0.13.1->tensorflow-quantum) (1.3.2)\n",
      "Requirement already satisfied: python-dateutil>=2.7 in /tmpfs/src/tf_docs_env/lib/python3.7/site-packages (from matplotlib~=3.0->cirq-core>=0.13.1->tensorflow-quantum) (2.8.2)\n",
      "Requirement already satisfied: pillow>=6.2.0 in /tmpfs/src/tf_docs_env/lib/python3.7/site-packages (from matplotlib~=3.0->cirq-core>=0.13.1->tensorflow-quantum) (9.0.1)\n",
      "Requirement already satisfied: certifi>=2017.4.17 in /usr/lib/python3/dist-packages (from requests<3.0.0dev,>=2.18.0->google-api-core==1.21.0->tensorflow-quantum) (2018.1.18)\n",
      "Requirement already satisfied: charset-normalizer~=2.0.0 in /tmpfs/src/tf_docs_env/lib/python3.7/site-packages (from requests<3.0.0dev,>=2.18.0->google-api-core==1.21.0->tensorflow-quantum) (2.0.11)\n",
      "Requirement already satisfied: urllib3<1.27,>=1.21.1 in /usr/lib/python3/dist-packages (from requests<3.0.0dev,>=2.18.0->google-api-core==1.21.0->tensorflow-quantum) (1.22)\n",
      "Requirement already satisfied: idna<4,>=2.5 in /usr/lib/python3/dist-packages (from requests<3.0.0dev,>=2.18.0->google-api-core==1.21.0->tensorflow-quantum) (2.6)\n",
      "Requirement already satisfied: pyasn1>=0.1.3 in /usr/lib/python3/dist-packages (from rsa<5,>=3.1.4->google-auth==1.18.0->tensorflow-quantum) (0.4.2)\n",
      "Installing collected packages: sortedcontainers, mpmath, sympy, protobuf, duet, cachetools, googleapis-common-protos, google-auth, google-api-core, cirq-core, cirq-google, tensorflow-quantum\n",
      "  Attempting uninstall: protobuf\n",
      "    Found existing installation: protobuf 3.19.4\n",
      "    Uninstalling protobuf-3.19.4:\n",
      "      Successfully uninstalled protobuf-3.19.4\n",
      "  Attempting uninstall: cachetools\n",
      "    Found existing installation: cachetools 5.0.0\n",
      "    Not uninstalling cachetools at /home/kbuilder/.local/lib/python3.7/site-packages, outside environment /tmpfs/src/tf_docs_env\n",
      "    Can't uninstall 'cachetools'. No files were found to uninstall.\n",
      "  Attempting uninstall: googleapis-common-protos\n",
      "    Found existing installation: googleapis-common-protos 1.54.0\n",
      "    Uninstalling googleapis-common-protos-1.54.0:\n",
      "      Successfully uninstalled googleapis-common-protos-1.54.0\n",
      "  Attempting uninstall: google-auth\n",
      "    Found existing installation: google-auth 2.6.0\n",
      "    Uninstalling google-auth-2.6.0:\n",
      "      Successfully uninstalled google-auth-2.6.0\n",
      "Successfully installed cachetools-4.2.4 cirq-core-0.13.1 cirq-google-0.13.1 duet-0.2.3 google-api-core-1.21.0 google-auth-1.18.0 googleapis-common-protos-1.52.0 mpmath-1.2.1 protobuf-3.17.3 sortedcontainers-2.4.0 sympy-1.8 tensorflow-quantum-0.6.1\n"
     ]
    }
   ],
   "source": [
    "!pip install tensorflow-quantum"
   ]
  },
  {
   "cell_type": "code",
   "execution_count": 1,
   "metadata": {},
   "outputs": [],
   "source": [
    "%load_ext autoreload\n",
    "%autoreload 2"
   ]
  },
  {
   "cell_type": "code",
   "execution_count": 2,
   "metadata": {
    "colab": {},
    "colab_type": "code",
    "id": "4Ql5PW-ACO0J",
    "tags": []
   },
   "outputs": [
    {
     "data": {
      "text/plain": [
       "<module 'pkg_resources' from '/home/amir/miniconda3/envs/qtrkx/lib/python3.8/site-packages/pkg_resources/__init__.py'>"
      ]
     },
     "execution_count": 2,
     "metadata": {},
     "output_type": "execute_result"
    }
   ],
   "source": [
    "# Update package resources to account for version changes.\n",
    "import importlib, pkg_resources\n",
    "importlib.reload(pkg_resources)"
   ]
  },
  {
   "cell_type": "markdown",
   "metadata": {
    "colab_type": "text",
    "id": "1PaclXeSrrMW"
   },
   "source": [
    "Now import TensorFlow and the module dependencies:"
   ]
  },
  {
   "cell_type": "code",
   "execution_count": 3,
   "metadata": {
    "colab": {},
    "colab_type": "code",
    "id": "enZ300Bflq80",
    "tags": []
   },
   "outputs": [],
   "source": [
    "import tensorflow as tf\n",
    "import tensorflow_quantum as tfq\n",
    "\n",
    "import cirq\n",
    "import sympy\n",
    "import numpy as np\n",
    "\n",
    "# visualization tools\n",
    "%matplotlib inline\n",
    "import matplotlib.pyplot as plt\n",
    "from cirq.contrib.svg import SVGCircuit\n",
    "\n",
    "np.random.seed(1234)"
   ]
  },
  {
   "cell_type": "code",
   "execution_count": 4,
   "metadata": {},
   "outputs": [],
   "source": [
    "from qcircuits.QCircuit import QCircuit\n",
    "import json\n",
    "from tqdm import tqdm\n",
    "# import os\n",
    "# os.environ['TF_CPP_MIN_LOG_LEVEL'] = '3'  \n",
    "tf.get_logger().setLevel('ERROR')"
   ]
  },
  {
   "cell_type": "markdown",
   "metadata": {
    "colab_type": "text",
    "id": "b08Mmbs8lr81"
   },
   "source": [
    "## 1. Summary\n",
    "\n",
    "Random quantum circuits with many blocks that look like this ($R_{P}(\\theta)$ is a random Pauli rotation):<br/>\n",
    "<img src=\"./images/barren_2.png\" width=700>\n",
    "\n",
    "Where if $f(x)$ is defined as the expectation value w.r.t. $Z_{a}Z_{b}$ for any qubits $a$ and $b$, then there is a problem that $f'(x)$  has a mean very close to 0 and does not vary much. You will see this below:"
   ]
  },
  {
   "cell_type": "markdown",
   "metadata": {
    "colab_type": "text",
    "id": "y31qSRCczI-L"
   },
   "source": [
    "## 2. Generating random circuits\n",
    "\n",
    "The construction from the paper is straightforward to follow. The following implements a simple function that generates a random quantum circuit—sometimes referred to as a *quantum neural network* (QNN)—with the given depth on a set of qubits:"
   ]
  },
  {
   "cell_type": "code",
   "execution_count": 77,
   "metadata": {
    "colab": {},
    "colab_type": "code",
    "id": "Nh9vrgPBks7O",
    "tags": []
   },
   "outputs": [
    {
     "data": {
      "text/html": [
       "<pre style=\"overflow: auto; white-space: pre;\">(0, 0): ───Ry(0.25π)───Rz(theta)───@───Rx(1.48π)────────────────@───────\n",
       "                                   │                            │\n",
       "(0, 1): ───Ry(0.25π)───Rz(1.93π)───@───@───────────Ry(1.49π)────@───@───\n",
       "                                       │                            │\n",
       "(0, 2): ───Ry(0.25π)───Rz(1.1π)────────@───────────Ry(0.311π)───────@───</pre>"
      ],
      "text/plain": [
       "(0, 0): ───Ry(0.25π)───Rz(theta)───@───Rx(1.48π)────────────────@───────\n",
       "                                   │                            │\n",
       "(0, 1): ───Ry(0.25π)───Rz(1.93π)───@───@───────────Ry(1.49π)────@───@───\n",
       "                                       │                            │\n",
       "(0, 2): ───Ry(0.25π)───Rz(1.1π)────────@───────────Ry(0.311π)───────@───"
      ]
     },
     "execution_count": 77,
     "metadata": {},
     "output_type": "execute_result"
    }
   ],
   "source": [
    "def generate_random_qnn(qubits, symbol, depth):\n",
    "    \"\"\"Generate random QNN's with the same structure from McClean et al.\"\"\"\n",
    "    circuit = cirq.Circuit()\n",
    "    for qubit in qubits:\n",
    "        circuit += cirq.ry(np.pi / 4.0)(qubit)\n",
    "\n",
    "    for d in range(depth):\n",
    "        # Add a series of single qubit rotations.\n",
    "        for i, qubit in enumerate(qubits):\n",
    "            random_n = np.random.uniform()\n",
    "            random_rot = np.random.uniform(\n",
    "            ) * 2.0 * np.pi if i != 0 or d != 0 else symbol\n",
    "            if random_n > 2. / 3.:\n",
    "                # Add a Z.\n",
    "                circuit += cirq.rz(random_rot)(qubit)\n",
    "            elif random_n > 1. / 3.:\n",
    "                # Add a Y.\n",
    "                circuit += cirq.ry(random_rot)(qubit)\n",
    "            else:\n",
    "                # Add a X.\n",
    "                circuit += cirq.rx(random_rot)(qubit)\n",
    "\n",
    "        # Add CZ ladder.\n",
    "        for src, dest in zip(qubits, qubits[1:]):\n",
    "            circuit += cirq.CZ(src, dest)\n",
    "\n",
    "    return circuit\n",
    "\n",
    "\n",
    "generate_random_qnn(cirq.GridQubit.rect(1, 3), sympy.Symbol('theta'), 2)"
   ]
  },
  {
   "cell_type": "markdown",
   "metadata": {
    "colab_type": "text",
    "id": "gUuQfOyrj_Hu"
   },
   "source": [
    "The authors investigate the gradient of a single parameter $\\theta_{1,1}$. Let's follow along by placing a `sympy.Symbol` in the circuit where $\\theta_{1,1}$ would be. Since the authors do not analyze the statistics for any other symbols in the circuit, let's replace them with random values now instead of later."
   ]
  },
  {
   "cell_type": "markdown",
   "metadata": {
    "colab_type": "text",
    "id": "lAVDRQ87k3md"
   },
   "source": [
    "## 3. Running the circuits\n",
    "\n",
    "Generate a few of these circuits along with an observable to test the claim that the gradients don't vary much. First, generate a batch of random circuits. Choose a random *ZZ* observable and batch calculate the gradients and variance using TensorFlow Quantum."
   ]
  },
  {
   "cell_type": "markdown",
   "metadata": {
    "colab_type": "text",
    "id": "qoDDaHgwj_Hz"
   },
   "source": [
    "### 3.1 Batch variance computation\n",
    "\n",
    "Let's write a helper function that computes the variance of the gradient of a given observable over a batch of circuits:"
   ]
  },
  {
   "cell_type": "code",
   "execution_count": 4,
   "metadata": {
    "colab": {},
    "colab_type": "code",
    "id": "OkdndnBKk8B8",
    "tags": []
   },
   "outputs": [],
   "source": [
    "def process_batch(circuits, symbols, ops):\n",
    "    \"\"\"Compute the variance of a batch of expectations w.r.t. op on each circuit that \n",
    "    contains `symbol`. Note that this method sets up a new compute graph every time it is\n",
    "    called so it isn't as performant as possible.\"\"\"\n",
    "\n",
    "    # Setup a simple layer to batch compute the expectation gradients.\n",
    "    expectation = tfq.layers.Expectation()\n",
    "\n",
    "    # Use TensorFlow GradientTape to track gradients.\n",
    "    grads = []\n",
    "    for i, circuit in enumerate(circuits):\n",
    "        print(i)\n",
    "        # Prep the inputs as tensors    \n",
    "        # circuit_tensor = tfq.convert_to_tensor(circuit)\n",
    "        # ops_tensor = tfq.convert_to_tensor(ops)\n",
    "        values_tensor = tf.convert_to_tensor(\n",
    "            np.random.uniform(0, 2 * np.pi, (1, len(symbols[i]))).astype(np.float32))\n",
    "\n",
    "        # print(values_tensor.shape, len(symbols[i]))\n",
    "        with tf.GradientTape() as g:\n",
    "            g.watch(values_tensor)\n",
    "            forward = expectation(circuit,\n",
    "                                  operators=ops[i],\n",
    "                                  symbol_names=symbols[i],\n",
    "                                  symbol_values=values_tensor)\n",
    "\n",
    "        # Return variance of gradients across all circuits.\n",
    "        grads.append(g.gradient(forward, values_tensor))\n",
    "        \n",
    "    grads = tf.concat(grads, axis=1)\n",
    "    print(grads)\n",
    "    grad_var = tf.math.reduce_std(grads, axis=0)\n",
    "    print(grad_var)\n",
    "    return grad_var.numpy()[0]"
   ]
  },
  {
   "cell_type": "code",
   "execution_count": 17,
   "metadata": {},
   "outputs": [],
   "source": [
    "def process_batch(expectation, circuits, symbols, op):\n",
    "    \"\"\"Compute the variance of a batch of expectations w.r.t. op on each circuit that \n",
    "    contains `symbol`. Note that this method sets up a new compute graph every time it is\n",
    "    called so it isn't as performant as possible.\"\"\"\n",
    "    \n",
    "    # Setup a simple layer to batch compute the expectation gradients.\n",
    "    expectation = tfq.layers.Expectation()\n",
    "\n",
    "    # Prep the inputs as tensors\n",
    "    circuit_tensor = tfq.convert_to_tensor(circuits)\n",
    "    values_tensor = tf.convert_to_tensor(\n",
    "        np.random.uniform(0, 2 * np.pi, (len(circuits), len(symbols))).astype(np.float32))\n",
    "\n",
    "    # Use TensorFlow GradientTape to track gradients.\n",
    "    with tf.GradientTape() as g:\n",
    "        g.watch(values_tensor)\n",
    "        forward = expectation(circuit_tensor,\n",
    "                              operators=op,\n",
    "                              symbol_names=symbols,\n",
    "                              symbol_values=values_tensor)\n",
    "\n",
    "    # Return variance of gradients across all circuits.\n",
    "    grads = g.gradient(forward, values_tensor)\n",
    "    grad_var = tf.math.reduce_std(grads, axis=0)\n",
    "    return grad_var.numpy()[0]"
   ]
  },
  {
   "cell_type": "markdown",
   "metadata": {
    "colab_type": "text",
    "id": "JINYTIjDj_H1"
   },
   "source": [
    "### 3.1 Set up and run\n",
    "\n",
    "Choose the number of random circuits to generate along with their depth and the amount of qubits they should act on. Then plot the results."
   ]
  },
  {
   "cell_type": "code",
   "execution_count": 18,
   "metadata": {
    "colab": {},
    "colab_type": "code",
    "id": "xAGBcq9Bj_H3",
    "tags": []
   },
   "outputs": [
    {
     "name": "stdout",
     "output_type": "stream",
     "text": [
      "[1, 3, 5, 7]\n",
      "dict_keys(['19', '10', '10P', '6', 'generic', 'TTN', 'MPS', '10_local', 'SPSA2', '10_2des'])\n"
     ]
    },
    {
     "name": "stderr",
     "output_type": "stream",
     "text": [
      "100%|██████████| 10/10 [14:08<00:00, 84.86s/it]\n"
     ]
    }
   ],
   "source": [
    "# n_qubits = [2 * i for i in range(2, 7)\n",
    "#            ]  # Ranges studied in paper are between 2 and 24.\n",
    "n_qubits = [4, 8]\n",
    "n_layers = range(1,7+1,2)\n",
    "print(list(n_layers))\n",
    "# depth = 50  # Ranges studied in paper are between 50 and 500.\n",
    "n_circuits = 200\n",
    "\n",
    "with open('qcircuits/circuits_metadata.json') as json_file:\n",
    "    circuit_metadata = json.load(json_file)\n",
    "\n",
    "print(circuit_metadata['qc_pqc_dict'].keys())\n",
    "\n",
    "# Setup a simple layer to batch compute the expectation gradients.\n",
    "expectation = tfq.layers.Expectation()\n",
    "\n",
    "thetas = {}\n",
    "for id in tqdm(circuit_metadata['qc_pqc_dict'].keys()):\n",
    "    theta_per_qubits = {}\n",
    "    for n in n_qubits:\n",
    "        theta_var = []\n",
    "        for l in n_layers:\n",
    "            qc = QCircuit(IEC_id='simple_encoding_y',\n",
    "                    PQC_id=id,\n",
    "                    MC_id='measure_all',\n",
    "                    n_layers=l,\n",
    "                    input_size=n,\n",
    "                    p=0.01)\n",
    "            circuit = qc.model_circuit_pqc_only()[0]\n",
    "            circuits = [\n",
    "                circuit for _ in range(n_circuits)\n",
    "            ]\n",
    "            op = qc.measurement_operators()\n",
    "\n",
    "            symbols = []\n",
    "            for i in range(int(qc.n_params)):\n",
    "                symbols.append('theta{}'.format(i)) \n",
    "\n",
    "            theta_var.append(process_batch(expectation, circuits, symbols, op))\n",
    "        theta_per_qubits[n] = theta_var\n",
    "    \n",
    "    thetas[id] = theta_per_qubits"
   ]
  },
  {
   "cell_type": "code",
   "execution_count": 42,
   "metadata": {},
   "outputs": [
    {
     "data": {
      "image/png": "[encoded data removed]",
      "text/plain": [
       "<Figure size 720x288 with 2 Axes>"
      ]
     },
     "metadata": {
      "needs_background": "light"
     },
     "output_type": "display_data"
    }
   ],
   "source": [
    "n_qubits = [4, 8]\n",
    "fig, axs = plt.subplots(1,len(n_qubits), sharex=True, sharey=True, figsize=(10,4))\n",
    "\n",
    "plt.suptitle('Gradient Variance in QNNs')\n",
    "plt.xticks(n_layers)\n",
    "\n",
    "for i,n in enumerate(n_qubits):\n",
    "    for id, theta_per_qubits in thetas.items():        \n",
    "        axs[i].semilogy(n_layers, theta_per_qubits[n], label=f\"{id}\")\n",
    "    axs[i].set_title(f\"{n} qubits\")\n",
    "    axs[i].set_xlabel('n_layers')\n",
    "    axs[i].set_ylabel('$\\\\partial \\\\theta$ variance')\n",
    "\n",
    "handles, labels = axs[0].get_legend_handles_labels()\n",
    "fig.legend(handles, labels, loc='upper right')\n",
    "plt.show()"
   ]
  },
  {
   "cell_type": "code",
   "execution_count": 7,
   "metadata": {},
   "outputs": [
    {
     "name": "stderr",
     "output_type": "stream",
     "text": [
      "100%|██████████| 10/10 [00:00<00:00, 84.82it/s]"
     ]
    },
    {
     "name": "stdout",
     "output_type": "stream",
     "text": [
      "19\n",
      "-------------------\n",
      "QC19_PQC\n",
      "(0, 0): ───Rx(theta0)───Rz(theta1)───X─────────────────────────────────────────────────────────────────────────────────────────────@───────────────────────────────\n",
      "                                     │                                                                                             │\n",
      "(1, 0): ───Rx(theta2)───Rz(theta3)───┼─────────────────────────────────────────────────────────────@───────────────────────────────X^(0.318309886183791*theta11)───\n",
      "                                     │                                                             │\n",
      "(2, 0): ───Rx(theta4)───Rz(theta5)───┼──────────────────────────────@──────────────────────────────X^(0.318309886183791*theta10)───────────────────────────────────\n",
      "                                     │                              │\n",
      "(3, 0): ───Rx(theta6)───Rz(theta7)───@^(0.318309886183791*theta8)───X^(0.318309886183791*theta9)───────────────────────────────────────────────────────────────────\n",
      "(0, 0): ───Rx(theta0)───Rz(theta1)───X─────────────────────────────────────────────────────────────────────────────────────────────@───────────────────────────────\n",
      "                                     │                                                                                             │\n",
      "(1, 0): ───Rx(theta2)───Rz(theta3)───┼─────────────────────────────────────────────────────────────@───────────────────────────────X^(0.318309886183791*theta11)───\n",
      "                                     │                                                             │\n",
      "(2, 0): ───Rx(theta4)───Rz(theta5)───┼──────────────────────────────@──────────────────────────────X^(0.318309886183791*theta10)───────────────────────────────────\n",
      "                                     │                              │\n",
      "(3, 0): ───Rx(theta6)───Rz(theta7)───@^(0.318309886183791*theta8)───X^(0.318309886183791*theta9)───────────────────────────────────────────────────────────────────\n",
      "-------------------\n",
      "10\n",
      "-------------------\n",
      "QC10_PQC\n",
      "                                             ┌───────────┐\n",
      "(0, 0): ───Ry(theta0)───────────@─────────────@──────────────Ry(theta4)───\n",
      "                                │             │\n",
      "(1, 0): ───Ry(theta1)───────@───@─────────────┼Ry(theta5)─────────────────\n",
      "                            │                 │\n",
      "(2, 0): ───Ry(theta2)───@───@───Ry(theta6)────┼───────────────────────────\n",
      "                        │                     │\n",
      "(3, 0): ───Ry(theta3)───@─────────────────────@──────────────Ry(theta7)───\n",
      "                                             └───────────┘\n",
      "                                             ┌───────────┐\n",
      "(0, 0): ───Ry(theta0)───────────@─────────────@──────────────Ry(theta4)───\n",
      "                                │             │\n",
      "(1, 0): ───Ry(theta1)───────@───@─────────────┼Ry(theta5)─────────────────\n",
      "                            │                 │\n",
      "(2, 0): ───Ry(theta2)───@───@───Ry(theta6)────┼───────────────────────────\n",
      "                        │                     │\n",
      "(3, 0): ───Ry(theta3)───@─────────────────────@──────────────Ry(theta7)───\n",
      "                                             └───────────┘\n",
      "-------------------\n",
      "10P\n",
      "-------------------\n",
      "QC10P_PQC\n",
      "                                                           ┌────────────┐\n",
      "(0, 0): ───Ry(theta0)───Rx(theta1)───────────@──────────────@───────────────Ry(theta8)────Rx(theta9)────\n",
      "                                             │              │\n",
      "(1, 0): ───Ry(theta2)───Rx(theta3)───────@───@──────────────┼Ry(theta10)────Rx(theta11)─────────────────\n",
      "                                         │                  │\n",
      "(2, 0): ───Ry(theta4)───Rx(theta5)───@───@───Ry(theta12)────┼Rx(theta13)────────────────────────────────\n",
      "                                     │                      │\n",
      "(3, 0): ───Ry(theta6)───Rx(theta7)───@──────────────────────@───────────────Ry(theta14)───Rx(theta15)───\n",
      "                                                           └────────────┘\n",
      "                                                           ┌────────────┐\n",
      "(0, 0): ───Ry(theta0)───Rx(theta1)───────────@──────────────@───────────────Ry(theta8)────Rx(theta9)────\n",
      "                                             │              │\n",
      "(1, 0): ───Ry(theta2)───Rx(theta3)───────@───@──────────────┼Ry(theta10)────Rx(theta11)─────────────────\n",
      "                                         │                  │\n",
      "(2, 0): ───Ry(theta4)───Rx(theta5)───@───@───Ry(theta12)────┼Rx(theta13)────────────────────────────────\n",
      "                                     │                      │\n",
      "(3, 0): ───Ry(theta6)───Rx(theta7)───@──────────────────────@───────────────Ry(theta14)───Rx(theta15)───\n",
      "                                                           └────────────┘\n",
      "-------------------\n",
      "6\n",
      "-------------------\n",
      "QC6_PQC\n",
      "                                                                                                   ┌──────────────────────────────────────────────────────────┐                                                                                                   ┌──────────────────────────────────────────────────────────┐\n",
      "(0, 0): ───Rx(theta0)───Rz(theta1)──────────────────────────────────────────────────────────────────X─────────────────────────────────────────────────────────────X───────────────────────────────X─────────────────────────────────────────────────────────────────────────────────────────────@────────────────────────────────@───────────────────────────────@───────────────────────────────Rx(theta20)───Rz(theta21)───\n",
      "                                                                                                    │                                                             │                               │                                                                                             │                                │                               │\n",
      "(1, 0): ───Rx(theta2)───Rz(theta3)──────────────────────────────────X───────────────────────────────┼────────────────────────────X────────────────────────────────┼───────────────────────────────@^(0.318309886183791*theta14)───@────────────────────────────────@────────────────────────────┼────────────────────────────────┼───────────────────────────────X^(0.318309886183791*theta19)───Rx(theta22)───Rz(theta23)───\n",
      "                                                                    │                               │                            │                                │                                                               │                                │                            │                                │\n",
      "(2, 0): ───Rx(theta4)───Rz(theta5)───X──────────────────────────────┼───────────────────────────────┼────────────────────────────@^(0.318309886183791*theta11)────@^(0.318309886183791*theta12)───@───────────────────────────────┼────────────────────────────────X^(0.318309886183791*theta16)┼────────────────────────────────X^(0.318309886183791*theta18)───Rx(theta24)─────────────────────Rz(theta25)─────────────────\n",
      "                                     │                              │                               │                                                                                             │                               │                                                             │\n",
      "(3, 0): ───Rx(theta6)───Rz(theta7)───@^(0.318309886183791*theta8)───@^(0.318309886183791*theta9)────@^(0.318309886183791*theta10)─────────────────────────────────────────────────────────────────X^(0.318309886183791*theta13)───X^(0.318309886183791*theta15)─────────────────────────────────X^(0.318309886183791*theta17)────Rx(theta26)─────────────────────Rz(theta27)─────────────────────────────────────────────────\n",
      "                                                                                                   └──────────────────────────────────────────────────────────┘                                                                                                   └──────────────────────────────────────────────────────────┘\n",
      "                                                                                                   ┌──────────────────────────────────────────────────────────┐                                                                                                   ┌──────────────────────────────────────────────────────────┐\n",
      "(0, 0): ───Rx(theta0)───Rz(theta1)──────────────────────────────────────────────────────────────────X─────────────────────────────────────────────────────────────X───────────────────────────────X─────────────────────────────────────────────────────────────────────────────────────────────@────────────────────────────────@───────────────────────────────@───────────────────────────────Rx(theta20)───Rz(theta21)───\n",
      "                                                                                                    │                                                             │                               │                                                                                             │                                │                               │\n",
      "(1, 0): ───Rx(theta2)───Rz(theta3)──────────────────────────────────X───────────────────────────────┼────────────────────────────X────────────────────────────────┼───────────────────────────────@^(0.318309886183791*theta14)───@────────────────────────────────@────────────────────────────┼────────────────────────────────┼───────────────────────────────X^(0.318309886183791*theta19)───Rx(theta22)───Rz(theta23)───\n",
      "                                                                    │                               │                            │                                │                                                               │                                │                            │                                │\n",
      "(2, 0): ───Rx(theta4)───Rz(theta5)───X──────────────────────────────┼───────────────────────────────┼────────────────────────────@^(0.318309886183791*theta11)────@^(0.318309886183791*theta12)───@───────────────────────────────┼────────────────────────────────X^(0.318309886183791*theta16)┼────────────────────────────────X^(0.318309886183791*theta18)───Rx(theta24)─────────────────────Rz(theta25)─────────────────\n",
      "                                     │                              │                               │                                                                                             │                               │                                                             │\n",
      "(3, 0): ───Rx(theta6)───Rz(theta7)───@^(0.318309886183791*theta8)───@^(0.318309886183791*theta9)────@^(0.318309886183791*theta10)─────────────────────────────────────────────────────────────────X^(0.318309886183791*theta13)───X^(0.318309886183791*theta15)─────────────────────────────────X^(0.318309886183791*theta17)────Rx(theta26)─────────────────────Rz(theta27)─────────────────────────────────────────────────\n",
      "                                                                                                   └──────────────────────────────────────────────────────────┘                                                                                                   └──────────────────────────────────────────────────────────┘\n",
      "-------------------\n",
      "generic\n",
      "-------------------\n",
      "GENERIC_PQC\n",
      "                                ┌───────────┐                                                                      ┌──┐   ┌──┐\n",
      "(0, 0): ───@─────────────────────X──────────────Rz(theta2)────Rx(0.5π)─────Rz(theta0)───Rx(-0.5π)────Rz(theta1)─────@──────X─────Rz(theta14)───Rx(0.5π)───Rz(theta12)───Rx(-0.5π)───Rz(theta13)───\n",
      "           │                     │                                                                                  │      │\n",
      "(1, 0): ───X───@───Rz(theta5)────┼Rx(0.5π)──────Rz(theta3)────Rx(-0.5π)────Rz(theta4)───────────────────────────────┼@─────┼X────Rz(theta17)───Rx(0.5π)───Rz(theta15)───Rx(-0.5π)───Rz(theta16)───\n",
      "               │                 │                                                                                  ││     ││\n",
      "(2, 0): ───────X───@─────────────┼Rz(theta8)────Rx(0.5π)──────Rz(theta6)───Rx(-0.5π)────Rz(theta7)──────────────────X┼─────@┼────Rz(theta20)───Rx(0.5π)───Rz(theta18)───Rx(-0.5π)───Rz(theta19)───\n",
      "                   │             │                                                                                   │      │\n",
      "(3, 0): ───────────X─────────────@──────────────Rz(theta11)───Rx(0.5π)─────Rz(theta9)───Rx(-0.5π)────Rz(theta10)─────X──────@────Rz(theta23)───Rx(0.5π)───Rz(theta21)───Rx(-0.5π)───Rz(theta22)───\n",
      "                                └───────────┘                                                                      └──┘   └──┘\n",
      "                                ┌───────────┐                                                                      ┌──┐   ┌──┐\n",
      "(0, 0): ───@─────────────────────X──────────────Rz(theta2)────Rx(0.5π)─────Rz(theta0)───Rx(-0.5π)────Rz(theta1)─────@──────X─────Rz(theta14)───Rx(0.5π)───Rz(theta12)───Rx(-0.5π)───Rz(theta13)───\n",
      "           │                     │                                                                                  │      │\n",
      "(1, 0): ───X───@───Rz(theta5)────┼Rx(0.5π)──────Rz(theta3)────Rx(-0.5π)────Rz(theta4)───────────────────────────────┼@─────┼X────Rz(theta17)───Rx(0.5π)───Rz(theta15)───Rx(-0.5π)───Rz(theta16)───\n",
      "               │                 │                                                                                  ││     ││\n",
      "(2, 0): ───────X───@─────────────┼Rz(theta8)────Rx(0.5π)──────Rz(theta6)───Rx(-0.5π)────Rz(theta7)──────────────────X┼─────@┼────Rz(theta20)───Rx(0.5π)───Rz(theta18)───Rx(-0.5π)───Rz(theta19)───\n",
      "                   │             │                                                                                   │      │\n",
      "(3, 0): ───────────X─────────────@──────────────Rz(theta11)───Rx(0.5π)─────Rz(theta9)───Rx(-0.5π)────Rz(theta10)─────X──────@────Rz(theta23)───Rx(0.5π)───Rz(theta21)───Rx(-0.5π)───Rz(theta22)───\n",
      "                                └───────────┘                                                                      └──┘   └──┘\n",
      "-------------------\n",
      "TTN\n",
      "-------------------\n",
      "TTN\n",
      "(0, 0): ───Ry(theta0)───@─────────────────────────────────\n",
      "                        │\n",
      "(1, 0): ───Ry(theta1)───@───Ry(theta4)───@────────────────\n",
      "                                         │\n",
      "(2, 0): ───Ry(theta2)───@────────────────┼────────────────\n",
      "                        │                │\n",
      "(3, 0): ───Ry(theta3)───@───Ry(theta5)───@───Ry(theta6)───\n",
      "-------------------\n",
      "MPS\n",
      "-------------------\n",
      "MPS\n",
      "(0, 0): ───Ry(theta0)───@──────────────────────────────────────────────────\n",
      "                        │\n",
      "(1, 0): ───Ry(theta1)───@───Ry(theta2)───@─────────────────────────────────\n",
      "                                         │\n",
      "(2, 0): ───Ry(theta3)────────────────────@───Ry(theta4)───@────────────────\n",
      "                                                          │\n",
      "(3, 0): ───Ry(theta5)─────────────────────────────────────@───Ry(theta6)───\n",
      "-------------------\n",
      "10_local\n",
      "-------------------\n",
      "QC10_PQC_LOCAL\n",
      "(0, 0): ───Ry(theta0)───────────@───@────────────────\n",
      "                                │   │\n",
      "(1, 0): ───Ry(theta1)───────@───@───┼────────────────\n",
      "                            │       │\n",
      "(2, 0): ───Ry(theta2)───@───@───────┼────────────────\n",
      "                        │           │\n",
      "(3, 0): ───Ry(theta3)───@───────────@───Ry(theta4)───\n",
      "(0, 0): ───Ry(theta0)───────────@───@────────────────\n",
      "                                │   │\n",
      "(1, 0): ───Ry(theta1)───────@───@───┼────────────────\n",
      "                            │       │\n",
      "(2, 0): ───Ry(theta2)───@───@───────┼────────────────\n",
      "                        │           │\n",
      "(3, 0): ───Ry(theta3)───@───────────@───Ry(theta4)───\n",
      "-------------------\n",
      "SPSA2\n",
      "-------------------\n",
      "SPSA2_PQC\n",
      "                                             ┌───────────┐\n",
      "(0, 0): ───Ry(theta0)───────────@─────────────@──────────────Ry(theta4)───\n",
      "                                │             │\n",
      "(1, 0): ───Ry(theta1)───────@───@─────────────┼Ry(theta5)─────────────────\n",
      "                            │                 │\n",
      "(2, 0): ───Ry(theta2)───@───@───Ry(theta6)────┼───────────────────────────\n",
      "                        │                     │\n",
      "(3, 0): ───Ry(theta3)───@─────────────────────@──────────────Ry(theta7)───\n",
      "                                             └───────────┘\n",
      "                                             ┌───────────┐\n",
      "(0, 0): ───Ry(theta0)───────────@─────────────@──────────────Ry(theta4)───\n",
      "                                │             │\n",
      "(1, 0): ───Ry(theta1)───────@───@─────────────┼Ry(theta5)─────────────────\n",
      "                            │                 │\n",
      "(2, 0): ───Ry(theta2)───@───@───Ry(theta6)────┼───────────────────────────\n",
      "                        │                     │\n",
      "(3, 0): ───Ry(theta3)───@─────────────────────@──────────────Ry(theta7)───\n",
      "                                             └───────────┘\n",
      "-------------------\n",
      "10_2des\n",
      "-------------------\n",
      "QC10_PQC\n",
      "(0, 0): ───Ry(theta0)────────────────────@────────────Ry(theta4)───\n",
      "                                         │\n",
      "(1, 0): ───Ry(theta1)───────@────────────@────────────Ry(theta5)───\n",
      "                            │\n",
      "(2, 0): ───Ry(theta2)───@───@────────────Ry(theta6)────────────────\n",
      "                        │\n",
      "(3, 0): ───Ry(theta3)───@───Ry(theta7)─────────────────────────────\n",
      "(0, 0): ───Ry(theta0)────────────────────@────────────Ry(theta4)───\n",
      "                                         │\n",
      "(1, 0): ───Ry(theta1)───────@────────────@────────────Ry(theta5)───\n",
      "                            │\n",
      "(2, 0): ───Ry(theta2)───@───@────────────Ry(theta6)────────────────\n",
      "                        │\n",
      "(3, 0): ───Ry(theta3)───@───Ry(theta7)─────────────────────────────\n",
      "-------------------\n"
     ]
    },
    {
     "name": "stderr",
     "output_type": "stream",
     "text": [
      "\n"
     ]
    }
   ],
   "source": [
    "for id in tqdm(circuit_metadata['qc_pqc_dict'].keys()):\n",
    "    qc = QCircuit(IEC_id='simple_encoding_y',\n",
    "            PQC_id=id,\n",
    "            MC_id='measure_all',\n",
    "            n_layers=1,\n",
    "            input_size=4,\n",
    "            p=0.01)\n",
    "    print(id)\n",
    "    print(\"-------------------\")\n",
    "    circuit = qc.model_circuit_pqc_only()[0]\n",
    "    print(circuit)\n",
    "    print(\"-------------------\")"
   ]
  },
  {
   "cell_type": "markdown",
   "metadata": {
    "colab_type": "text",
    "id": "qY2E0CFjxRE9"
   },
   "source": [
    "This plot shows that for quantum machine learning problems, you can't simply guess a random QNN ansatz and hope for the best. Some structure must be present in the model circuit in order for gradients to vary to the point where learning can happen."
   ]
  },
  {
   "cell_type": "markdown",
   "metadata": {
    "colab_type": "text",
    "id": "4RE_idhmj_H6"
   },
   "source": [
    "## 4. Heuristics\n",
    "\n",
    "An interesting heuristic by <a href=\"https://arxiv.org/pdf/1903.05076.pdf\" class=\"external\">Grant, 2019</a> allows one to start very close to random, but not quite. Using the same circuits as McClean et al., the authors propose a different initialization technique for the classical control parameters to avoid barren plateaus. The initialization technique starts some layers with totally random control parameters—but, in the layers immediately following, choose parameters such that the initial transformation made by the first few layers is undone. The authors call this an *identity block*.\n",
    "\n",
    "The advantage of this heuristic is that by changing just a single parameter, all other blocks outside of the current block will remain the identity—and the gradient signal comes through much stronger than before. This allows the user to pick and choose which variables and blocks to modify to get a strong gradient signal. This heuristic does not prevent the user from falling in to a barren plateau during the training phase (and restricts a fully simultaneous update), it just guarantees that you can start outside of a plateau."
   ]
  },
  {
   "cell_type": "markdown",
   "metadata": {
    "colab_type": "text",
    "id": "Fofv9hgyj_IB"
   },
   "source": [
    "### 4.1 New QNN construction\n",
    "\n",
    "Now construct a function to generate identity block QNNs. This implementation is slightly different than the one from the paper. For now, look at the behavior of the gradient of a single parameter so it is consistent with McClean et al, so some simplifications can be made.\n",
    "\n",
    "To generate an identity block and train the model, generally you need $U1(\\theta_{1a}) U1(\\theta_{1b})^{\\dagger}$ and not $U1(\\theta_1) U1(\\theta_1)^{\\dagger}$. Initially $\\theta_{1a}$ and $\\theta_{1b}$ are the same angles but they are learned independently. Otherwise, you will always get the identity even after training. The choice for the number of identity blocks is empirical. The deeper the block, the smaller the variance in the middle of the block. But at the start and end of the block, the variance of the parameter gradients should be large. "
   ]
  },
  {
   "cell_type": "code",
   "execution_count": 9,
   "metadata": {
    "colab": {},
    "colab_type": "code",
    "collapsed": true,
    "execution": {
     "iopub.execute_input": "2022-02-04T12:18:19.688909Z",
     "iopub.status.busy": "2022-02-04T12:18:19.688361Z",
     "iopub.status.idle": "2022-02-04T12:18:19.691125Z",
     "shell.execute_reply": "2022-02-04T12:18:19.691482Z"
    },
    "id": "PL7mTHEVj_IC",
    "jupyter": {
     "outputs_hidden": true
    }
   },
   "outputs": [
    {
     "data": {
      "text/html": [
       "<pre style=\"overflow: auto; white-space: pre;\">(0, 0): ───Ry(0.25π)───Rx(theta)────@───Rx(0.716π)────────────────@───────────@─────────────────Rx(-0.716π)───@───Rx(-1.62π)────Ry(1.15π)───@───Rz(1.7π)────────────────@───────────@─────────────────Rz(-1.7π)───@───Ry(-1.15π)───\n",
       "                                    │                             │           │                               │                             │                           │           │                             │\n",
       "(0, 1): ───Ry(0.25π)───Rz(0.356π)───@───@────────────Rz(0.153π)───@───@───@───@───Rz(-0.153π)───@─────────────@───Rz(-0.356π)───Rz(1.25π)───@───@──────────Rz(0.736π)───@───@───@───@───Rz(-0.736π)───@───────────@───Rz(-1.25π)───\n",
       "                                        │                             │   │                     │                                               │                           │   │                     │\n",
       "(0, 2): ───Ry(0.25π)───Rx(0.104π)───────@────────────Ry(0.792π)───────@───@───────Ry(-0.792π)───@─────────────────Rx(-0.104π)───Rz(1.46π)───────@──────────Rz(1.73π)────────@───@───────Rz(-1.73π)────@───────────────Rz(-1.46π)───</pre>"
      ],
      "text/plain": [
       "(0, 0): ───Ry(0.25π)───Rx(theta)────@───Rx(0.716π)────────────────@───────────@─────────────────Rx(-0.716π)───@───Rx(-1.62π)────Ry(1.15π)───@───Rz(1.7π)────────────────@───────────@─────────────────Rz(-1.7π)───@───Ry(-1.15π)───\n",
       "                                    │                             │           │                               │                             │                           │           │                             │\n",
       "(0, 1): ───Ry(0.25π)───Rz(0.356π)───@───@────────────Rz(0.153π)───@───@───@───@───Rz(-0.153π)───@─────────────@───Rz(-0.356π)───Rz(1.25π)───@───@──────────Rz(0.736π)───@───@───@───@───Rz(-0.736π)───@───────────@───Rz(-1.25π)───\n",
       "                                        │                             │   │                     │                                               │                           │   │                     │\n",
       "(0, 2): ───Ry(0.25π)───Rx(0.104π)───────@────────────Ry(0.792π)───────@───@───────Ry(-0.792π)───@─────────────────Rx(-0.104π)───Rz(1.46π)───────@──────────Rz(1.73π)────────@───@───────Rz(-1.73π)────@───────────────Rz(-1.46π)───"
      ]
     },
     "execution_count": 9,
     "metadata": {},
     "output_type": "execute_result"
    }
   ],
   "source": [
    "def generate_identity_qnn(qubits, symbol, block_depth, total_depth):\n",
    "    \"\"\"Generate random QNN's with the same structure from Grant et al.\"\"\"\n",
    "    circuit = cirq.Circuit()\n",
    "\n",
    "    # Generate initial block with symbol.\n",
    "    prep_and_U = generate_random_qnn(qubits, symbol, block_depth)\n",
    "    circuit += prep_and_U\n",
    "\n",
    "    # Generate dagger of initial block without symbol.\n",
    "    U_dagger = (prep_and_U[1:])**-1\n",
    "    circuit += cirq.resolve_parameters(\n",
    "        U_dagger, param_resolver={symbol: np.random.uniform() * 2 * np.pi})\n",
    "\n",
    "    for d in range(total_depth - 1):\n",
    "        # Get a random QNN.\n",
    "        prep_and_U_circuit = generate_random_qnn(\n",
    "            qubits,\n",
    "            np.random.uniform() * 2 * np.pi, block_depth)\n",
    "\n",
    "        # Remove the state-prep component\n",
    "        U_circuit = prep_and_U_circuit[1:]\n",
    "\n",
    "        # Add U\n",
    "        circuit += U_circuit\n",
    "\n",
    "        # Add U^dagger\n",
    "        circuit += U_circuit**-1\n",
    "\n",
    "    return circuit\n",
    "\n",
    "\n",
    "generate_identity_qnn(cirq.GridQubit.rect(1, 3), sympy.Symbol('theta'), 2, 2)"
   ]
  },
  {
   "cell_type": "markdown",
   "metadata": {
    "colab_type": "text",
    "id": "ifWrl19kj_IG"
   },
   "source": [
    "### 4.2 Comparison\n",
    "\n",
    "Here you can see that the heuristic does help to keep the variance of the gradient from vanishing as quickly:"
   ]
  },
  {
   "cell_type": "code",
   "execution_count": 10,
   "metadata": {
    "colab": {},
    "colab_type": "code",
    "collapsed": true,
    "execution": {
     "iopub.execute_input": "2022-02-04T12:18:19.750902Z",
     "iopub.status.busy": "2022-02-04T12:18:19.719986Z",
     "iopub.status.idle": "2022-02-04T12:23:20.392776Z",
     "shell.execute_reply": "2022-02-04T12:23:20.393223Z"
    },
    "id": "62kmsVAXj_IH",
    "jupyter": {
     "outputs_hidden": true
    }
   },
   "outputs": [
    {
     "name": "stdout",
     "output_type": "stream",
     "text": [
      "WARNING:tensorflow:6 out of the last 6 calls to <function Adjoint.differentiate_analytic at 0x7f9e3b5c68c0> triggered tf.function retracing. Tracing is expensive and the excessive number of tracings could be due to (1) creating @tf.function repeatedly in a loop, (2) passing tensors with different shapes, (3) passing Python objects instead of tensors. For (1), please define your @tf.function outside of the loop. For (2), @tf.function has experimental_relax_shapes=True option that relaxes argument shapes that can avoid unnecessary retracing. For (3), please refer to https://www.tensorflow.org/guide/function#controlling_retracing and https://www.tensorflow.org/api_docs/python/tf/function for  more details.\n"
     ]
    },
    {
     "data": {
      "image/png": "[encoded data removed]",
      "text/plain": [
       "<Figure size 432x288 with 1 Axes>"
      ]
     },
     "metadata": {
      "needs_background": "light"
     },
     "output_type": "display_data"
    }
   ],
   "source": [
    "block_depth = 10\n",
    "total_depth = 5\n",
    "\n",
    "heuristic_theta_var = []\n",
    "\n",
    "for n in n_qubits:\n",
    "    # Generate the identity block circuits and observable for the given n.\n",
    "    qubits = cirq.GridQubit.rect(1, n)\n",
    "    symbol = sympy.Symbol('theta')\n",
    "    circuits = [\n",
    "        generate_identity_qnn(qubits, symbol, block_depth, total_depth)\n",
    "        for _ in range(n_circuits)\n",
    "    ]\n",
    "    op = cirq.Z(qubits[0]) * cirq.Z(qubits[1])\n",
    "    heuristic_theta_var.append(process_batch(circuits, symbol, op))\n",
    "\n",
    "plt.semilogy(n_qubits, theta_var)\n",
    "plt.semilogy(n_qubits, heuristic_theta_var)\n",
    "plt.title('Heuristic vs. Random')\n",
    "plt.xlabel('n_qubits')\n",
    "plt.xticks(n_qubits)\n",
    "plt.ylabel('$\\\\partial \\\\theta$ variance')\n",
    "plt.show()"
   ]
  },
  {
   "cell_type": "markdown",
   "metadata": {
    "colab_type": "text",
    "id": "E0XNSoblj_IK"
   },
   "source": [
    "This is a great improvement in getting stronger gradient signals from (near) random QNNs."
   ]
  }
 ],
 "metadata": {
  "colab": {
   "collapsed_sections": [],
   "name": "barren_plateaus.ipynb",
   "private_outputs": true,
   "provenance": [],
   "toc_visible": true
  },
  "kernelspec": {
   "display_name": "Python 3",
   "language": "python",
   "name": "python3"
  },
  "language_info": {
   "codemirror_mode": {
    "name": "ipython",
    "version": 3
   },
   "file_extension": ".py",
   "mimetype": "text/x-python",
   "name": "python",
   "nbconvert_exporter": "python",
   "pygments_lexer": "ipython3",
   "version": "3.8.5"
  }
 },
 "nbformat": 4,
 "nbformat_minor": 4
}
